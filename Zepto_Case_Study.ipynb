{
 "cells": [
  {
   "cell_type": "markdown",
   "metadata": {},
   "source": [
    "### Zepto Case Study"
   ]
  },
  {
   "cell_type": "markdown",
   "metadata": {},
   "source": [
    "Things to keep in mind:\n",
    "\n",
    "● You can only use signals that are available before the match starts, so team names, away/home etc is fair to use. Any info that happens during the match is a violation.  \n",
    "● Use lots of exploratory analysis and graphs to get a sense for the data.  \n",
    "● Follow a hypothesis based approach."
   ]
  },
  {
   "cell_type": "markdown",
   "metadata": {},
   "source": [
    "Submission/Output:\n",
    "    \n",
    "● Code up your solution from EDA to the final output with probabilities/graphs etc either as a R/Python file/notebook.  \n",
    "● Upload the file/notebook to a git repository and share the link with us.  \n",
    "● Points for effective storytelling and structured problem solving with\n",
    "comments/explanations.  \n",
    "● Get creativity in terms of visualization, approaches and statistical modeling.  \n",
    "● Please also share a clean doc with explanation for approach and final outcome in terms\n",
    "of the model used. Clearly state the what and why for the approach.  "
   ]
  },
  {
   "cell_type": "code",
   "execution_count": 1,
   "metadata": {},
   "outputs": [],
   "source": [
    "import pandas as pd\n",
    "import numpy as np\n",
    "import matplotlib.pyplot as plt\n",
    "import seaborn as sns\n",
    "from datetime import datetime as dt\n",
    "import itertools\n",
    "\n",
    "%matplotlib inline"
   ]
  },
  {
   "cell_type": "code",
   "execution_count": 2,
   "metadata": {},
   "outputs": [],
   "source": [
    "input_data = pd.read_csv('input_data.csv')"
   ]
  },
  {
   "cell_type": "code",
   "execution_count": 3,
   "metadata": {},
   "outputs": [
    {
     "data": {
      "text/html": [
       "<div>\n",
       "<style scoped>\n",
       "    .dataframe tbody tr th:only-of-type {\n",
       "        vertical-align: middle;\n",
       "    }\n",
       "\n",
       "    .dataframe tbody tr th {\n",
       "        vertical-align: top;\n",
       "    }\n",
       "\n",
       "    .dataframe thead th {\n",
       "        text-align: right;\n",
       "    }\n",
       "</style>\n",
       "<table border=\"1\" class=\"dataframe\">\n",
       "  <thead>\n",
       "    <tr style=\"text-align: right;\">\n",
       "      <th></th>\n",
       "      <th>Div</th>\n",
       "      <th>Date</th>\n",
       "      <th>Time</th>\n",
       "      <th>HomeTeam</th>\n",
       "      <th>AwayTeam</th>\n",
       "      <th>FTHG</th>\n",
       "      <th>FTAG</th>\n",
       "      <th>FTR</th>\n",
       "      <th>HTHG</th>\n",
       "      <th>HTAG</th>\n",
       "      <th>...</th>\n",
       "      <th>AvgC&lt;2.5</th>\n",
       "      <th>AHCh</th>\n",
       "      <th>B365CAHH</th>\n",
       "      <th>B365CAHA</th>\n",
       "      <th>PCAHH</th>\n",
       "      <th>PCAHA</th>\n",
       "      <th>MaxCAHH</th>\n",
       "      <th>MaxCAHA</th>\n",
       "      <th>AvgCAHH</th>\n",
       "      <th>AvgCAHA</th>\n",
       "    </tr>\n",
       "  </thead>\n",
       "  <tbody>\n",
       "    <tr>\n",
       "      <th>0</th>\n",
       "      <td>E0</td>\n",
       "      <td>13/08/2021</td>\n",
       "      <td>20:00</td>\n",
       "      <td>Brentford</td>\n",
       "      <td>Arsenal</td>\n",
       "      <td>2</td>\n",
       "      <td>0</td>\n",
       "      <td>H</td>\n",
       "      <td>1</td>\n",
       "      <td>0</td>\n",
       "      <td>...</td>\n",
       "      <td>1.62</td>\n",
       "      <td>0.50</td>\n",
       "      <td>1.75</td>\n",
       "      <td>2.05</td>\n",
       "      <td>1.81</td>\n",
       "      <td>2.13</td>\n",
       "      <td>2.05</td>\n",
       "      <td>2.17</td>\n",
       "      <td>1.80</td>\n",
       "      <td>2.09</td>\n",
       "    </tr>\n",
       "    <tr>\n",
       "      <th>1</th>\n",
       "      <td>E0</td>\n",
       "      <td>14/08/2021</td>\n",
       "      <td>12:30</td>\n",
       "      <td>Man United</td>\n",
       "      <td>Leeds</td>\n",
       "      <td>5</td>\n",
       "      <td>1</td>\n",
       "      <td>H</td>\n",
       "      <td>1</td>\n",
       "      <td>0</td>\n",
       "      <td>...</td>\n",
       "      <td>2.25</td>\n",
       "      <td>-1.00</td>\n",
       "      <td>2.05</td>\n",
       "      <td>1.75</td>\n",
       "      <td>2.17</td>\n",
       "      <td>1.77</td>\n",
       "      <td>2.19</td>\n",
       "      <td>1.93</td>\n",
       "      <td>2.10</td>\n",
       "      <td>1.79</td>\n",
       "    </tr>\n",
       "    <tr>\n",
       "      <th>2</th>\n",
       "      <td>E0</td>\n",
       "      <td>14/08/2021</td>\n",
       "      <td>15:00</td>\n",
       "      <td>Burnley</td>\n",
       "      <td>Brighton</td>\n",
       "      <td>1</td>\n",
       "      <td>2</td>\n",
       "      <td>A</td>\n",
       "      <td>1</td>\n",
       "      <td>0</td>\n",
       "      <td>...</td>\n",
       "      <td>1.62</td>\n",
       "      <td>0.25</td>\n",
       "      <td>1.79</td>\n",
       "      <td>2.15</td>\n",
       "      <td>1.81</td>\n",
       "      <td>2.14</td>\n",
       "      <td>1.82</td>\n",
       "      <td>2.19</td>\n",
       "      <td>1.79</td>\n",
       "      <td>2.12</td>\n",
       "    </tr>\n",
       "    <tr>\n",
       "      <th>3</th>\n",
       "      <td>E0</td>\n",
       "      <td>14/08/2021</td>\n",
       "      <td>15:00</td>\n",
       "      <td>Chelsea</td>\n",
       "      <td>Crystal Palace</td>\n",
       "      <td>3</td>\n",
       "      <td>0</td>\n",
       "      <td>H</td>\n",
       "      <td>2</td>\n",
       "      <td>0</td>\n",
       "      <td>...</td>\n",
       "      <td>1.94</td>\n",
       "      <td>-1.50</td>\n",
       "      <td>2.05</td>\n",
       "      <td>1.75</td>\n",
       "      <td>2.12</td>\n",
       "      <td>1.81</td>\n",
       "      <td>2.16</td>\n",
       "      <td>1.93</td>\n",
       "      <td>2.06</td>\n",
       "      <td>1.82</td>\n",
       "    </tr>\n",
       "  </tbody>\n",
       "</table>\n",
       "<p>4 rows × 106 columns</p>\n",
       "</div>"
      ],
      "text/plain": [
       "  Div        Date   Time    HomeTeam        AwayTeam  FTHG  FTAG FTR  HTHG  \\\n",
       "0  E0  13/08/2021  20:00   Brentford         Arsenal     2     0   H     1   \n",
       "1  E0  14/08/2021  12:30  Man United           Leeds     5     1   H     1   \n",
       "2  E0  14/08/2021  15:00     Burnley        Brighton     1     2   A     1   \n",
       "3  E0  14/08/2021  15:00     Chelsea  Crystal Palace     3     0   H     2   \n",
       "\n",
       "   HTAG  ... AvgC<2.5  AHCh  B365CAHH  B365CAHA  PCAHH  PCAHA  MaxCAHH  \\\n",
       "0     0  ...     1.62  0.50      1.75      2.05   1.81   2.13     2.05   \n",
       "1     0  ...     2.25 -1.00      2.05      1.75   2.17   1.77     2.19   \n",
       "2     0  ...     1.62  0.25      1.79      2.15   1.81   2.14     1.82   \n",
       "3     0  ...     1.94 -1.50      2.05      1.75   2.12   1.81     2.16   \n",
       "\n",
       "   MaxCAHA  AvgCAHH  AvgCAHA  \n",
       "0     2.17     1.80     2.09  \n",
       "1     1.93     2.10     1.79  \n",
       "2     2.19     1.79     2.12  \n",
       "3     1.93     2.06     1.82  \n",
       "\n",
       "[4 rows x 106 columns]"
      ]
     },
     "execution_count": 3,
     "metadata": {},
     "output_type": "execute_result"
    }
   ],
   "source": [
    "input_data.head(4)"
   ]
  },
  {
   "cell_type": "code",
   "execution_count": 4,
   "metadata": {},
   "outputs": [
    {
     "data": {
      "text/plain": [
       "20"
      ]
     },
     "execution_count": 4,
     "metadata": {},
     "output_type": "execute_result"
    }
   ],
   "source": [
    "len(input_data['HomeTeam'].unique())"
   ]
  },
  {
   "cell_type": "code",
   "execution_count": 5,
   "metadata": {},
   "outputs": [],
   "source": [
    "input_data['Date'] = pd.to_datetime(input_data['Date'], format=\"%d/%m/%Y\")"
   ]
  },
  {
   "cell_type": "code",
   "execution_count": 6,
   "metadata": {},
   "outputs": [],
   "source": [
    "input_data = input_data.drop(['Div'], axis=1) #dropping first column 'Div' as value is always E0"
   ]
  },
  {
   "cell_type": "markdown",
   "metadata": {},
   "source": [
    "### Total matched played"
   ]
  },
  {
   "cell_type": "code",
   "execution_count": 7,
   "metadata": {},
   "outputs": [
    {
     "name": "stdout",
     "output_type": "stream",
     "text": [
      "Total matches played - 380\n"
     ]
    }
   ],
   "source": [
    "total_matches = input_data['Date'].count()\n",
    "print('Total matches played - ' +str(total_matches))"
   ]
  },
  {
   "cell_type": "markdown",
   "metadata": {},
   "source": [
    "### Total teams"
   ]
  },
  {
   "cell_type": "code",
   "execution_count": 8,
   "metadata": {},
   "outputs": [
    {
     "name": "stdout",
     "output_type": "stream",
     "text": [
      "Total teams which played: 20\n",
      "The teams are : ['Brentford' 'Man United' 'Burnley' 'Chelsea' 'Everton' 'Leicester'\n",
      " 'Watford' 'Norwich' 'Newcastle' 'Tottenham' 'Liverpool' 'Aston Villa'\n",
      " 'Crystal Palace' 'Leeds' 'Man City' 'Brighton' 'Southampton' 'Wolves'\n",
      " 'Arsenal' 'West Ham']\n"
     ]
    }
   ],
   "source": [
    "total_teams = input_data['HomeTeam'].unique()\n",
    "total_teams_count = input_data['HomeTeam'].nunique()\n",
    "\n",
    "print('Total teams which played: '+str(total_teams_count))\n",
    "print('The teams are : '+str(total_teams))"
   ]
  },
  {
   "cell_type": "code",
   "execution_count": 9,
   "metadata": {},
   "outputs": [
    {
     "data": {
      "text/html": [
       "<div>\n",
       "<style scoped>\n",
       "    .dataframe tbody tr th:only-of-type {\n",
       "        vertical-align: middle;\n",
       "    }\n",
       "\n",
       "    .dataframe tbody tr th {\n",
       "        vertical-align: top;\n",
       "    }\n",
       "\n",
       "    .dataframe thead th {\n",
       "        text-align: right;\n",
       "    }\n",
       "</style>\n",
       "<table border=\"1\" class=\"dataframe\">\n",
       "  <thead>\n",
       "    <tr style=\"text-align: right;\">\n",
       "      <th></th>\n",
       "      <th>Total Games</th>\n",
       "    </tr>\n",
       "  </thead>\n",
       "  <tbody>\n",
       "    <tr>\n",
       "      <th>Arsenal</th>\n",
       "      <td>38</td>\n",
       "    </tr>\n",
       "    <tr>\n",
       "      <th>Aston Villa</th>\n",
       "      <td>38</td>\n",
       "    </tr>\n",
       "    <tr>\n",
       "      <th>Brentford</th>\n",
       "      <td>38</td>\n",
       "    </tr>\n",
       "    <tr>\n",
       "      <th>Brighton</th>\n",
       "      <td>38</td>\n",
       "    </tr>\n",
       "    <tr>\n",
       "      <th>Burnley</th>\n",
       "      <td>38</td>\n",
       "    </tr>\n",
       "    <tr>\n",
       "      <th>Chelsea</th>\n",
       "      <td>38</td>\n",
       "    </tr>\n",
       "    <tr>\n",
       "      <th>Crystal Palace</th>\n",
       "      <td>38</td>\n",
       "    </tr>\n",
       "    <tr>\n",
       "      <th>Everton</th>\n",
       "      <td>38</td>\n",
       "    </tr>\n",
       "    <tr>\n",
       "      <th>Leeds</th>\n",
       "      <td>38</td>\n",
       "    </tr>\n",
       "    <tr>\n",
       "      <th>Leicester</th>\n",
       "      <td>38</td>\n",
       "    </tr>\n",
       "    <tr>\n",
       "      <th>Liverpool</th>\n",
       "      <td>38</td>\n",
       "    </tr>\n",
       "    <tr>\n",
       "      <th>Man City</th>\n",
       "      <td>38</td>\n",
       "    </tr>\n",
       "    <tr>\n",
       "      <th>Man United</th>\n",
       "      <td>38</td>\n",
       "    </tr>\n",
       "    <tr>\n",
       "      <th>Newcastle</th>\n",
       "      <td>38</td>\n",
       "    </tr>\n",
       "    <tr>\n",
       "      <th>Norwich</th>\n",
       "      <td>38</td>\n",
       "    </tr>\n",
       "    <tr>\n",
       "      <th>Southampton</th>\n",
       "      <td>38</td>\n",
       "    </tr>\n",
       "    <tr>\n",
       "      <th>Tottenham</th>\n",
       "      <td>38</td>\n",
       "    </tr>\n",
       "    <tr>\n",
       "      <th>Watford</th>\n",
       "      <td>38</td>\n",
       "    </tr>\n",
       "    <tr>\n",
       "      <th>West Ham</th>\n",
       "      <td>38</td>\n",
       "    </tr>\n",
       "    <tr>\n",
       "      <th>Wolves</th>\n",
       "      <td>38</td>\n",
       "    </tr>\n",
       "  </tbody>\n",
       "</table>\n",
       "</div>"
      ],
      "text/plain": [
       "                Total Games\n",
       "Arsenal                  38\n",
       "Aston Villa              38\n",
       "Brentford                38\n",
       "Brighton                 38\n",
       "Burnley                  38\n",
       "Chelsea                  38\n",
       "Crystal Palace           38\n",
       "Everton                  38\n",
       "Leeds                    38\n",
       "Leicester                38\n",
       "Liverpool                38\n",
       "Man City                 38\n",
       "Man United               38\n",
       "Newcastle                38\n",
       "Norwich                  38\n",
       "Southampton              38\n",
       "Tottenham                38\n",
       "Watford                  38\n",
       "West Ham                 38\n",
       "Wolves                   38"
      ]
     },
     "execution_count": 9,
     "metadata": {},
     "output_type": "execute_result"
    }
   ],
   "source": [
    "total_games_each_team = input_data['HomeTeam'].value_counts() + input_data['AwayTeam'].value_counts()\n",
    "each_team_games = pd.DataFrame(total_games_each_team).sort_index(axis = 0) \n",
    "each_team_games.columns = ['Total Games']\n",
    "each_team_games"
   ]
  },
  {
   "cell_type": "code",
   "execution_count": 12,
   "metadata": {},
   "outputs": [
    {
     "data": {
      "image/png": "[encoded data removed]",
      "text/plain": [
       "<Figure size 720x360 with 1 Axes>"
      ]
     },
     "metadata": {
      "needs_background": "light"
     },
     "output_type": "display_data"
    }
   ],
   "source": [
    "each_team_games.plot(kind='bar',color='lightblue', legend=False, figsize=(10,5))\n",
    "plt.xticks(fontsize=14)\n",
    "plt.yticks(fontsize=14)\n",
    "plt.xlabel('Teams',fontsize=20)\n",
    "plt.ylabel('Total games (EPL) in seasons 2021 - 2022',fontsize=10)\n",
    "plt.title('Total games per team during 2021 - 2022',fontsize=10, color='black')\n",
    "plt.show()"
   ]
  },
  {
   "cell_type": "code",
   "execution_count": 13,
   "metadata": {},
   "outputs": [
    {
     "data": {
      "text/html": [
       "<div>\n",
       "<style scoped>\n",
       "    .dataframe tbody tr th:only-of-type {\n",
       "        vertical-align: middle;\n",
       "    }\n",
       "\n",
       "    .dataframe tbody tr th {\n",
       "        vertical-align: top;\n",
       "    }\n",
       "\n",
       "    .dataframe thead th {\n",
       "        text-align: right;\n",
       "    }\n",
       "</style>\n",
       "<table border=\"1\" class=\"dataframe\">\n",
       "  <thead>\n",
       "    <tr style=\"text-align: right;\">\n",
       "      <th></th>\n",
       "      <th>Total Games</th>\n",
       "    </tr>\n",
       "  </thead>\n",
       "  <tbody>\n",
       "  </tbody>\n",
       "</table>\n",
       "</div>"
      ],
      "text/plain": [
       "Empty DataFrame\n",
       "Columns: [Total Games]\n",
       "Index: []"
      ]
     },
     "execution_count": 13,
     "metadata": {},
     "output_type": "execute_result"
    }
   ],
   "source": [
    "ten_season_teams = each_team_games[each_team_games['Total Games']==380]\n",
    "ten_season_teams"
   ]
  },
  {
   "cell_type": "code",
   "execution_count": 14,
   "metadata": {},
   "outputs": [
    {
     "data": {
      "text/html": [
       "<div>\n",
       "<style scoped>\n",
       "    .dataframe tbody tr th:only-of-type {\n",
       "        vertical-align: middle;\n",
       "    }\n",
       "\n",
       "    .dataframe tbody tr th {\n",
       "        vertical-align: top;\n",
       "    }\n",
       "\n",
       "    .dataframe thead th {\n",
       "        text-align: right;\n",
       "    }\n",
       "</style>\n",
       "<table border=\"1\" class=\"dataframe\">\n",
       "  <thead>\n",
       "    <tr style=\"text-align: right;\">\n",
       "      <th></th>\n",
       "      <th>Total Games</th>\n",
       "    </tr>\n",
       "  </thead>\n",
       "  <tbody>\n",
       "    <tr>\n",
       "      <th>Arsenal</th>\n",
       "      <td>38</td>\n",
       "    </tr>\n",
       "    <tr>\n",
       "      <th>Aston Villa</th>\n",
       "      <td>38</td>\n",
       "    </tr>\n",
       "    <tr>\n",
       "      <th>Brentford</th>\n",
       "      <td>38</td>\n",
       "    </tr>\n",
       "    <tr>\n",
       "      <th>Brighton</th>\n",
       "      <td>38</td>\n",
       "    </tr>\n",
       "    <tr>\n",
       "      <th>Burnley</th>\n",
       "      <td>38</td>\n",
       "    </tr>\n",
       "    <tr>\n",
       "      <th>Chelsea</th>\n",
       "      <td>38</td>\n",
       "    </tr>\n",
       "    <tr>\n",
       "      <th>Crystal Palace</th>\n",
       "      <td>38</td>\n",
       "    </tr>\n",
       "    <tr>\n",
       "      <th>Everton</th>\n",
       "      <td>38</td>\n",
       "    </tr>\n",
       "    <tr>\n",
       "      <th>Leeds</th>\n",
       "      <td>38</td>\n",
       "    </tr>\n",
       "    <tr>\n",
       "      <th>Leicester</th>\n",
       "      <td>38</td>\n",
       "    </tr>\n",
       "    <tr>\n",
       "      <th>Liverpool</th>\n",
       "      <td>38</td>\n",
       "    </tr>\n",
       "    <tr>\n",
       "      <th>Man City</th>\n",
       "      <td>38</td>\n",
       "    </tr>\n",
       "    <tr>\n",
       "      <th>Man United</th>\n",
       "      <td>38</td>\n",
       "    </tr>\n",
       "    <tr>\n",
       "      <th>Newcastle</th>\n",
       "      <td>38</td>\n",
       "    </tr>\n",
       "    <tr>\n",
       "      <th>Norwich</th>\n",
       "      <td>38</td>\n",
       "    </tr>\n",
       "    <tr>\n",
       "      <th>Southampton</th>\n",
       "      <td>38</td>\n",
       "    </tr>\n",
       "    <tr>\n",
       "      <th>Tottenham</th>\n",
       "      <td>38</td>\n",
       "    </tr>\n",
       "    <tr>\n",
       "      <th>Watford</th>\n",
       "      <td>38</td>\n",
       "    </tr>\n",
       "    <tr>\n",
       "      <th>West Ham</th>\n",
       "      <td>38</td>\n",
       "    </tr>\n",
       "    <tr>\n",
       "      <th>Wolves</th>\n",
       "      <td>38</td>\n",
       "    </tr>\n",
       "  </tbody>\n",
       "</table>\n",
       "</div>"
      ],
      "text/plain": [
       "                Total Games\n",
       "Arsenal                  38\n",
       "Aston Villa              38\n",
       "Brentford                38\n",
       "Brighton                 38\n",
       "Burnley                  38\n",
       "Chelsea                  38\n",
       "Crystal Palace           38\n",
       "Everton                  38\n",
       "Leeds                    38\n",
       "Leicester                38\n",
       "Liverpool                38\n",
       "Man City                 38\n",
       "Man United               38\n",
       "Newcastle                38\n",
       "Norwich                  38\n",
       "Southampton              38\n",
       "Tottenham                38\n",
       "Watford                  38\n",
       "West Ham                 38\n",
       "Wolves                   38"
      ]
     },
     "execution_count": 14,
     "metadata": {},
     "output_type": "execute_result"
    }
   ],
   "source": [
    "one_season_teams = each_team_games[each_team_games['Total Games']==38]\n",
    "one_season_teams"
   ]
  },
  {
   "cell_type": "code",
   "execution_count": 15,
   "metadata": {},
   "outputs": [
    {
     "data": {
      "text/html": [
       "<div>\n",
       "<style scoped>\n",
       "    .dataframe tbody tr th:only-of-type {\n",
       "        vertical-align: middle;\n",
       "    }\n",
       "\n",
       "    .dataframe tbody tr th {\n",
       "        vertical-align: top;\n",
       "    }\n",
       "\n",
       "    .dataframe thead th {\n",
       "        text-align: right;\n",
       "    }\n",
       "</style>\n",
       "<table border=\"1\" class=\"dataframe\">\n",
       "  <thead>\n",
       "    <tr style=\"text-align: right;\">\n",
       "      <th></th>\n",
       "      <th>FTR</th>\n",
       "    </tr>\n",
       "  </thead>\n",
       "  <tbody>\n",
       "    <tr>\n",
       "      <th>H</th>\n",
       "      <td>163</td>\n",
       "    </tr>\n",
       "    <tr>\n",
       "      <th>A</th>\n",
       "      <td>129</td>\n",
       "    </tr>\n",
       "    <tr>\n",
       "      <th>D</th>\n",
       "      <td>88</td>\n",
       "    </tr>\n",
       "  </tbody>\n",
       "</table>\n",
       "</div>"
      ],
      "text/plain": [
       "   FTR\n",
       "H  163\n",
       "A  129\n",
       "D   88"
      ]
     },
     "execution_count": 15,
     "metadata": {},
     "output_type": "execute_result"
    }
   ],
   "source": [
    "all_matches_results = pd.DataFrame(input_data['FTR'].value_counts())\n",
    "all_matches_results"
   ]
  },
  {
   "cell_type": "code",
   "execution_count": 16,
   "metadata": {},
   "outputs": [
    {
     "data": {
      "text/plain": [
       "Text(0.5, 1.0, 'Percentage share of match results')"
      ]
     },
     "execution_count": 16,
     "metadata": {},
     "output_type": "execute_result"
    },
    {
     "data": {
      "image/png": "[encoded data removed]",
      "text/plain": [
       "<Figure size 360x360 with 1 Axes>"
      ]
     },
     "metadata": {},
     "output_type": "display_data"
    }
   ],
   "source": [
    "labels = ['Home Team Wins','Away Team Wins','Draw']\n",
    "\n",
    "all_matches_results.plot(kind='pie', y = 'FTR', autopct='%1.1f%%', \n",
    "startangle=180, shadow=False, labels=labels, legend = False, fontsize=14, figsize=(5,5))\n",
    "\n",
    "plt.title('Percentage share of match results',fontsize=20, color='black')"
   ]
  },
  {
   "cell_type": "code",
   "execution_count": 17,
   "metadata": {},
   "outputs": [
    {
     "name": "stdout",
     "output_type": "stream",
     "text": [
      "Number of referees : 22\n"
     ]
    }
   ],
   "source": [
    "referees_count = input_data['Referee'].nunique()\n",
    "\n",
    "print('Number of referees : '+str(referees_count))\n",
    "\n",
    "all_referees = pd.DataFrame(input_data['Referee'].value_counts()).sort_index(axis = 0)"
   ]
  },
  {
   "cell_type": "code",
   "execution_count": 18,
   "metadata": {},
   "outputs": [
    {
     "data": {
      "image/png": "[encoded data removed]",
      "text/plain": [
       "<Figure size 576x576 with 1 Axes>"
      ]
     },
     "metadata": {
      "needs_background": "light"
     },
     "output_type": "display_data"
    }
   ],
   "source": [
    "all_referees.plot(kind='barh',color='orange', legend=False, figsize=(8,8))\n",
    "plt.xticks(fontsize=14)\n",
    "plt.yticks(fontsize=14)\n",
    "plt.ylabel('Referees',fontsize=14)\n",
    "plt.xlabel('Total games officiated in seasons 2021 - 2022',fontsize=14)\n",
    "plt.title('Number of games officiated by referees during 2021 - 2022',fontsize=20, color='black')\n",
    "plt.show()"
   ]
  },
  {
   "cell_type": "markdown",
   "metadata": {},
   "source": [
    "Now, We need to focus on two columns 'HTR' and 'FTR'.\n",
    "\n",
    "We need to look for two sets of data:\n",
    "\n",
    "1. Away team winning at half time and Home team wins at full time.\n",
    "2. Home team winning at half time and Away team wins at full time"
   ]
  },
  {
   "cell_type": "code",
   "execution_count": 19,
   "metadata": {},
   "outputs": [
    {
     "name": "stdout",
     "output_type": "stream",
     "text": [
      "Number of games in which teams loosing at half time come back to win the game at full time : 18\n"
     ]
    }
   ],
   "source": [
    "come_backs = input_data[((input_data['HTR']=='A') & (input_data['FTR']=='H'))\n",
    "                         | \n",
    "                         ((input_data['HTR']=='H') & (input_data['FTR']=='A'))]\n",
    "\n",
    "come_back_wins = come_backs.shape[0]\n",
    "\n",
    "print('Number of games in which teams loosing at half time come back to win the game at full time : '+str(come_back_wins))"
   ]
  },
  {
   "cell_type": "code",
   "execution_count": 20,
   "metadata": {},
   "outputs": [
    {
     "data": {
      "text/html": [
       "<div>\n",
       "<style scoped>\n",
       "    .dataframe tbody tr th:only-of-type {\n",
       "        vertical-align: middle;\n",
       "    }\n",
       "\n",
       "    .dataframe tbody tr th {\n",
       "        vertical-align: top;\n",
       "    }\n",
       "\n",
       "    .dataframe thead th {\n",
       "        text-align: right;\n",
       "    }\n",
       "</style>\n",
       "<table border=\"1\" class=\"dataframe\">\n",
       "  <thead>\n",
       "    <tr style=\"text-align: right;\">\n",
       "      <th></th>\n",
       "      <th>comeback_wins_per_year</th>\n",
       "    </tr>\n",
       "    <tr>\n",
       "      <th>Date</th>\n",
       "      <th></th>\n",
       "    </tr>\n",
       "  </thead>\n",
       "  <tbody>\n",
       "    <tr>\n",
       "      <th>2021</th>\n",
       "      <td>8</td>\n",
       "    </tr>\n",
       "    <tr>\n",
       "      <th>2022</th>\n",
       "      <td>10</td>\n",
       "    </tr>\n",
       "  </tbody>\n",
       "</table>\n",
       "</div>"
      ],
      "text/plain": [
       "      comeback_wins_per_year\n",
       "Date                        \n",
       "2021                       8\n",
       "2022                      10"
      ]
     },
     "execution_count": 20,
     "metadata": {},
     "output_type": "execute_result"
    }
   ],
   "source": [
    "come_backs_year_sort = pd.DataFrame()\n",
    "come_backs_year_sort['comeback_wins_per_year'] = come_backs['FTR'].groupby([come_backs.Date.dt.year]).agg('count')\n",
    "come_backs_year_sort"
   ]
  },
  {
   "cell_type": "markdown",
   "metadata": {},
   "source": [
    "## Team Level Analysis"
   ]
  },
  {
   "cell_type": "markdown",
   "metadata": {},
   "source": [
    "### Home Goals scored by Teams"
   ]
  },
  {
   "cell_type": "code",
   "execution_count": 21,
   "metadata": {},
   "outputs": [
    {
     "data": {
      "text/plain": [
       "<matplotlib.legend.Legend at 0x7fda99f94d30>"
      ]
     },
     "execution_count": 21,
     "metadata": {},
     "output_type": "execute_result"
    },
    {
     "data": {
      "image/png": "[encoded data removed]",
      "text/plain": [
       "<Figure size 576x576 with 1 Axes>"
      ]
     },
     "metadata": {
      "needs_background": "light"
     },
     "output_type": "display_data"
    }
   ],
   "source": [
    "input_data.groupby('HomeTeam')['FTHG'].sum().sort_values(ascending=False).plot(kind='barh',figsize=(8,8),xticks=np.arange(0,1051,50),color='darkorange')\n",
    "plt.grid(axis='x')\n",
    "plt.xlabel(\"Goals\")\n",
    "plt.title(\"Home Goals by Teams\",fontsize=20)\n",
    "plt.legend(['Goals Scored'])"
   ]
  },
  {
   "cell_type": "markdown",
   "metadata": {},
   "source": [
    "Observations :\n",
    "1. Over the seasons Manchester City has scored most number of goals overall and at Home Ground.\n",
    "2. Liverpool and Tottenham are at postion 2 and 3 respectively.\n",
    "3. Norwich and Watford are the lowest goal scoring teams overall and at Home"
   ]
  },
  {
   "cell_type": "markdown",
   "metadata": {},
   "source": [
    "### Away Goals scored by Teams"
   ]
  },
  {
   "cell_type": "code",
   "execution_count": 22,
   "metadata": {},
   "outputs": [
    {
     "data": {
      "text/plain": [
       "<matplotlib.legend.Legend at 0x7fda9a274a00>"
      ]
     },
     "execution_count": 22,
     "metadata": {},
     "output_type": "execute_result"
    },
    {
     "data": {
      "image/png": "[encoded data removed]",
      "text/plain": [
       "<Figure size 576x576 with 1 Axes>"
      ]
     },
     "metadata": {
      "needs_background": "light"
     },
     "output_type": "display_data"
    }
   ],
   "source": [
    "input_data.groupby('AwayTeam')['FTHG'].sum().sort_values(ascending=False).plot(kind='barh',figsize=(8,8),xticks=np.arange(0,1051,50),color='darkorange')\n",
    "plt.grid(axis='x')\n",
    "plt.xlabel(\"Goals\")\n",
    "plt.title(\"Home Goals by Teams\",fontsize=20)\n",
    "plt.legend(['Goals Scored'])"
   ]
  },
  {
   "cell_type": "markdown",
   "metadata": {},
   "source": [
    "Observations :\n",
    "1. Over the seasons Southampton has scored most number of goals at Away Grounds.\n",
    "2. Leeds and Everton are at postion 2 and 3 respectively.\n",
    "3. Chelsea and Manchester City are the lowest goal scoring teams at Away Grounds."
   ]
  },
  {
   "cell_type": "markdown",
   "metadata": {},
   "source": [
    "## Home Win Percentage"
   ]
  },
  {
   "cell_type": "code",
   "execution_count": 23,
   "metadata": {},
   "outputs": [
    {
     "data": {
      "text/plain": [
       "Text(0.5, 1.0, 'Home Ground Win %')"
      ]
     },
     "execution_count": 23,
     "metadata": {},
     "output_type": "execute_result"
    },
    {
     "data": {
      "image/png": "[encoded data removed]",
      "text/plain": [
       "<Figure size 360x720 with 1 Axes>"
      ]
     },
     "metadata": {
      "needs_background": "light"
     },
     "output_type": "display_data"
    }
   ],
   "source": [
    "home_win=100*round((input_data.loc[input_data['FTR']=='H'].groupby('HomeTeam')['FTR'].count()/input_data.groupby('HomeTeam')['FTR'].count()),3)\n",
    "home_win.sort_values(ascending=False).plot(kind='barh',figsize=(5,10),xticks=np.arange(0,101,10),color='lightblue')\n",
    "plt.grid(axis='x')\n",
    "plt.xlabel('Percentage')\n",
    "plt.legend(['% Wins'])\n",
    "plt.title(\"Home Ground Win %\",fontsize=20)"
   ]
  },
  {
   "cell_type": "markdown",
   "metadata": {},
   "source": [
    "Observations :\n",
    "1. Over the seasons Liverpool and Man City has best Home Ground Win% of ~79% which means both have won almost 79/100 matches played at Home\n",
    "2. Arsenal and Tottenham are at postion 2 and 3 respectively.\n",
    "3. Watford has worst/least Home Ground Win % of ~10% which means the have won just 10/100 matches played at Home."
   ]
  },
  {
   "cell_type": "markdown",
   "metadata": {},
   "source": [
    "## Home Loss Percentage"
   ]
  },
  {
   "cell_type": "code",
   "execution_count": 24,
   "metadata": {},
   "outputs": [
    {
     "data": {
      "text/plain": [
       "Text(0.5, 1.0, 'Home Ground Loss %')"
      ]
     },
     "execution_count": 24,
     "metadata": {},
     "output_type": "execute_result"
    },
    {
     "data": {
      "image/png": "[encoded data removed]",
      "text/plain": [
       "<Figure size 360x720 with 1 Axes>"
      ]
     },
     "metadata": {
      "needs_background": "light"
     },
     "output_type": "display_data"
    }
   ],
   "source": [
    "home_loss=100*round((input_data.loc[input_data['FTR']=='A'].groupby('HomeTeam')['FTR'].count()/input_data.groupby('HomeTeam')['FTR'].count()),3)\n",
    "home_loss.sort_values(ascending=False).plot(kind='barh',figsize=(5,10),xticks=np.arange(0,101,10),color='lightblue')\n",
    "plt.grid(axis='x')\n",
    "plt.xlabel('Percentage')\n",
    "plt.legend(['% Loss'])\n",
    "plt.title(\"Home Ground Loss %\",fontsize=20)"
   ]
  },
  {
   "cell_type": "markdown",
   "metadata": {},
   "source": [
    "## Home Draw Percentage"
   ]
  },
  {
   "cell_type": "code",
   "execution_count": 25,
   "metadata": {},
   "outputs": [
    {
     "data": {
      "text/plain": [
       "Text(0.5, 1.0, 'Home Ground Draw %')"
      ]
     },
     "execution_count": 25,
     "metadata": {},
     "output_type": "execute_result"
    },
    {
     "data": {
      "image/png": "[encoded data removed]",
      "text/plain": [
       "<Figure size 360x720 with 1 Axes>"
      ]
     },
     "metadata": {
      "needs_background": "light"
     },
     "output_type": "display_data"
    }
   ],
   "source": [
    "home_draw=100*round((input_data.loc[input_data['FTR']=='D'].groupby('HomeTeam')['FTR'].count()/input_data.groupby('HomeTeam')['FTR'].count()),3)\n",
    "home_draw.sort_values(ascending=False).plot(kind='barh',figsize=(5,10),xticks=np.arange(0,101,10),color='lightblue')\n",
    "plt.grid(axis='x')\n",
    "plt.xlabel('Percentage')\n",
    "plt.legend(['% Draw'])\n",
    "plt.title(\"Home Ground Draw %\",fontsize=20)"
   ]
  },
  {
   "cell_type": "markdown",
   "metadata": {},
   "source": [
    "## Away Win Percentage"
   ]
  },
  {
   "cell_type": "code",
   "execution_count": 26,
   "metadata": {},
   "outputs": [
    {
     "data": {
      "text/plain": [
       "Text(0.5, 1.0, 'Away Ground Win %')"
      ]
     },
     "execution_count": 26,
     "metadata": {},
     "output_type": "execute_result"
    },
    {
     "data": {
      "image/png": "[encoded data removed]",
      "text/plain": [
       "<Figure size 360x720 with 1 Axes>"
      ]
     },
     "metadata": {
      "needs_background": "light"
     },
     "output_type": "display_data"
    }
   ],
   "source": [
    "away_win=100*round((input_data.loc[input_data['FTR']=='A'].groupby('AwayTeam')['FTR'].count()/input_data.groupby('AwayTeam')['FTR'].count()),3)\n",
    "away_win.sort_values(ascending=False).plot(kind='barh',figsize=(5,10),xticks=np.arange(0,101,10),color='teal')\n",
    "plt.grid(axis='x')\n",
    "plt.xlabel('Percentage')\n",
    "plt.legend(['% Wins'])\n",
    "plt.title(\"Away Ground Win %\",fontsize=20)"
   ]
  },
  {
   "cell_type": "markdown",
   "metadata": {},
   "source": [
    "## Away Loss Percentage"
   ]
  },
  {
   "cell_type": "code",
   "execution_count": 27,
   "metadata": {},
   "outputs": [
    {
     "data": {
      "text/plain": [
       "Text(0.5, 1.0, 'Away Ground Loss %')"
      ]
     },
     "execution_count": 27,
     "metadata": {},
     "output_type": "execute_result"
    },
    {
     "data": {
      "image/png": "[encoded data removed]",
      "text/plain": [
       "<Figure size 360x720 with 1 Axes>"
      ]
     },
     "metadata": {
      "needs_background": "light"
     },
     "output_type": "display_data"
    }
   ],
   "source": [
    "away_win=100*round((input_data.loc[input_data['FTR']=='H'].groupby('AwayTeam')['FTR'].count()/input_data.groupby('AwayTeam')['FTR'].count()),3)\n",
    "away_win.sort_values(ascending=False).plot(kind='barh',figsize=(5,10),xticks=np.arange(0,101,10),color='teal')\n",
    "plt.grid(axis='x')\n",
    "plt.xlabel('Percentage')\n",
    "plt.legend(['% Loss'])\n",
    "plt.title(\"Away Ground Loss %\",fontsize=20)"
   ]
  },
  {
   "cell_type": "markdown",
   "metadata": {},
   "source": [
    "## Away Draw Percentage"
   ]
  },
  {
   "cell_type": "code",
   "execution_count": 28,
   "metadata": {},
   "outputs": [
    {
     "data": {
      "text/plain": [
       "Text(0.5, 1.0, 'Away Ground Draw %')"
      ]
     },
     "execution_count": 28,
     "metadata": {},
     "output_type": "execute_result"
    },
    {
     "data": {
      "image/png": "[encoded data removed]",
      "text/plain": [
       "<Figure size 360x720 with 1 Axes>"
      ]
     },
     "metadata": {
      "needs_background": "light"
     },
     "output_type": "display_data"
    }
   ],
   "source": [
    "away_win=100*round((input_data.loc[input_data['FTR']=='D'].groupby('AwayTeam')['FTR'].count()/input_data.groupby('AwayTeam')['FTR'].count()),3)\n",
    "away_win.sort_values(ascending=False).plot(kind='barh',figsize=(5,10),xticks=np.arange(0,101,10),color='teal')\n",
    "plt.grid(axis='x')\n",
    "plt.xlabel('Percentage')\n",
    "plt.legend(['% Draws'])\n",
    "plt.title(\"Away Ground Draw %\",fontsize=20)"
   ]
  },
  {
   "cell_type": "code",
   "execution_count": 29,
   "metadata": {},
   "outputs": [
    {
     "data": {
      "text/plain": [
       "AST      -0.556878\n",
       "AS       -0.447768\n",
       "HY       -0.204951\n",
       "AC       -0.200919\n",
       "HR       -0.176560\n",
       "HF       -0.043950\n",
       "AY       -0.030736\n",
       "AF       -0.010400\n",
       "HC        0.176864\n",
       "AR        0.177829\n",
       "HS        0.441493\n",
       "HST       0.555220\n",
       "margin    1.000000\n",
       "Name: margin, dtype: float64"
      ]
     },
     "execution_count": 29,
     "metadata": {},
     "output_type": "execute_result"
    }
   ],
   "source": [
    "input_data['margin'] = input_data['FTHG'] - input_data['FTAG']\n",
    "stat_cols = ['AC', 'AF', 'AR', 'AS', 'AST', 'AY', 'HC', 'HF', 'HR', 'HS', 'HST', 'HTR', 'HY', 'margin']\n",
    "\n",
    "stat_correlations = input_data[stat_cols].corr()\n",
    "stat_correlations['margin'].sort_values()"
   ]
  },
  {
   "cell_type": "code",
   "execution_count": 30,
   "metadata": {},
   "outputs": [
    {
     "data": {
      "text/plain": [
       "<AxesSubplot:>"
      ]
     },
     "execution_count": 30,
     "metadata": {},
     "output_type": "execute_result"
    },
    {
     "data": {
      "image/png": "[encoded data removed]",
      "text/plain": [
       "<Figure size 432x288 with 2 Axes>"
      ]
     },
     "metadata": {
      "needs_background": "light"
     },
     "output_type": "display_data"
    }
   ],
   "source": [
    "sns.heatmap(stat_correlations, annot=True, annot_kws={'size': 5})"
   ]
  },
  {
   "cell_type": "code",
   "execution_count": 31,
   "metadata": {},
   "outputs": [],
   "source": [
    "import xgboost as xgb\n",
    "from sklearn.linear_model import LogisticRegression\n",
    "from sklearn.ensemble import RandomForestClassifier\n",
    "from sklearn.svm import SVC"
   ]
  },
  {
   "cell_type": "code",
   "execution_count": 32,
   "metadata": {},
   "outputs": [
    {
     "name": "stdout",
     "output_type": "stream",
     "text": [
      "Total number of matches: 380\n",
      "Number of features: 105\n",
      "Number of matches won by home team: 163\n",
      "Win rate of home team: 42.89%\n"
     ]
    }
   ],
   "source": [
    "#win rate for the home team\n",
    "\n",
    "# Total number of matches.\n",
    "n_matches = input_data.shape[0]\n",
    "\n",
    "# Calculate number of features. -1 because we are saving one as the target variable (win/lose/draw)\n",
    "n_features = input_data.shape[1] - 1\n",
    "\n",
    "# Calculate matches won by home team.\n",
    "n_homewins = len(input_data[input_data.FTR == 'H'])\n",
    "\n",
    "# Calculate win rate for home team.\n",
    "win_rate = (float(n_homewins) / (n_matches)) * 100\n",
    "\n",
    "\n",
    "print(\"Total number of matches: {}\".format(n_matches))\n",
    "print(\"Number of features: {}\".format(n_features))\n",
    "print(\"Number of matches won by home team: {}\".format(n_homewins))\n",
    "print(\"Win rate of home team: {:.2f}%\".format(win_rate))"
   ]
  },
  {
   "cell_type": "code",
   "execution_count": 34,
   "metadata": {},
   "outputs": [],
   "source": [
    "matches = input_data"
   ]
  },
  {
   "cell_type": "code",
   "execution_count": 35,
   "metadata": {},
   "outputs": [
    {
     "data": {
      "text/html": [
       "<div>\n",
       "<style scoped>\n",
       "    .dataframe tbody tr th:only-of-type {\n",
       "        vertical-align: middle;\n",
       "    }\n",
       "\n",
       "    .dataframe tbody tr th {\n",
       "        vertical-align: top;\n",
       "    }\n",
       "\n",
       "    .dataframe thead th {\n",
       "        text-align: right;\n",
       "    }\n",
       "</style>\n",
       "<table border=\"1\" class=\"dataframe\">\n",
       "  <thead>\n",
       "    <tr style=\"text-align: right;\">\n",
       "      <th></th>\n",
       "      <th></th>\n",
       "      <th>FTHG</th>\n",
       "      <th>FTAG</th>\n",
       "      <th>HTHG</th>\n",
       "      <th>HTAG</th>\n",
       "      <th>HS</th>\n",
       "      <th>AS</th>\n",
       "      <th>HST</th>\n",
       "      <th>AST</th>\n",
       "      <th>HF</th>\n",
       "      <th>AF</th>\n",
       "      <th>...</th>\n",
       "      <th>AHCh</th>\n",
       "      <th>B365CAHH</th>\n",
       "      <th>B365CAHA</th>\n",
       "      <th>PCAHH</th>\n",
       "      <th>PCAHA</th>\n",
       "      <th>MaxCAHH</th>\n",
       "      <th>MaxCAHA</th>\n",
       "      <th>AvgCAHH</th>\n",
       "      <th>AvgCAHA</th>\n",
       "      <th>margin</th>\n",
       "    </tr>\n",
       "    <tr>\n",
       "      <th>HomeTeam</th>\n",
       "      <th>AwayTeam</th>\n",
       "      <th></th>\n",
       "      <th></th>\n",
       "      <th></th>\n",
       "      <th></th>\n",
       "      <th></th>\n",
       "      <th></th>\n",
       "      <th></th>\n",
       "      <th></th>\n",
       "      <th></th>\n",
       "      <th></th>\n",
       "      <th></th>\n",
       "      <th></th>\n",
       "      <th></th>\n",
       "      <th></th>\n",
       "      <th></th>\n",
       "      <th></th>\n",
       "      <th></th>\n",
       "      <th></th>\n",
       "      <th></th>\n",
       "      <th></th>\n",
       "      <th></th>\n",
       "    </tr>\n",
       "  </thead>\n",
       "  <tbody>\n",
       "    <tr>\n",
       "      <th rowspan=\"5\" valign=\"top\">Arsenal</th>\n",
       "      <th>Aston Villa</th>\n",
       "      <td>3</td>\n",
       "      <td>1</td>\n",
       "      <td>2</td>\n",
       "      <td>0</td>\n",
       "      <td>22</td>\n",
       "      <td>10</td>\n",
       "      <td>9</td>\n",
       "      <td>4</td>\n",
       "      <td>17</td>\n",
       "      <td>10</td>\n",
       "      <td>...</td>\n",
       "      <td>-0.50</td>\n",
       "      <td>2.03</td>\n",
       "      <td>1.90</td>\n",
       "      <td>2.04</td>\n",
       "      <td>1.89</td>\n",
       "      <td>2.11</td>\n",
       "      <td>1.96</td>\n",
       "      <td>1.99</td>\n",
       "      <td>1.88</td>\n",
       "      <td>2</td>\n",
       "    </tr>\n",
       "    <tr>\n",
       "      <th>Brentford</th>\n",
       "      <td>2</td>\n",
       "      <td>1</td>\n",
       "      <td>0</td>\n",
       "      <td>0</td>\n",
       "      <td>24</td>\n",
       "      <td>6</td>\n",
       "      <td>8</td>\n",
       "      <td>2</td>\n",
       "      <td>10</td>\n",
       "      <td>5</td>\n",
       "      <td>...</td>\n",
       "      <td>-1.00</td>\n",
       "      <td>1.93</td>\n",
       "      <td>1.97</td>\n",
       "      <td>1.91</td>\n",
       "      <td>2.01</td>\n",
       "      <td>2.06</td>\n",
       "      <td>2.01</td>\n",
       "      <td>1.97</td>\n",
       "      <td>1.90</td>\n",
       "      <td>1</td>\n",
       "    </tr>\n",
       "    <tr>\n",
       "      <th>Brighton</th>\n",
       "      <td>1</td>\n",
       "      <td>2</td>\n",
       "      <td>0</td>\n",
       "      <td>1</td>\n",
       "      <td>20</td>\n",
       "      <td>8</td>\n",
       "      <td>4</td>\n",
       "      <td>3</td>\n",
       "      <td>12</td>\n",
       "      <td>19</td>\n",
       "      <td>...</td>\n",
       "      <td>-0.75</td>\n",
       "      <td>1.78</td>\n",
       "      <td>2.13</td>\n",
       "      <td>1.83</td>\n",
       "      <td>2.11</td>\n",
       "      <td>1.87</td>\n",
       "      <td>2.14</td>\n",
       "      <td>1.83</td>\n",
       "      <td>2.06</td>\n",
       "      <td>-1</td>\n",
       "    </tr>\n",
       "    <tr>\n",
       "      <th>Burnley</th>\n",
       "      <td>0</td>\n",
       "      <td>0</td>\n",
       "      <td>0</td>\n",
       "      <td>0</td>\n",
       "      <td>20</td>\n",
       "      <td>10</td>\n",
       "      <td>5</td>\n",
       "      <td>1</td>\n",
       "      <td>9</td>\n",
       "      <td>13</td>\n",
       "      <td>...</td>\n",
       "      <td>-1.50</td>\n",
       "      <td>1.92</td>\n",
       "      <td>2.01</td>\n",
       "      <td>1.93</td>\n",
       "      <td>2.00</td>\n",
       "      <td>1.93</td>\n",
       "      <td>2.11</td>\n",
       "      <td>1.90</td>\n",
       "      <td>1.98</td>\n",
       "      <td>0</td>\n",
       "    </tr>\n",
       "    <tr>\n",
       "      <th>Chelsea</th>\n",
       "      <td>0</td>\n",
       "      <td>2</td>\n",
       "      <td>0</td>\n",
       "      <td>2</td>\n",
       "      <td>6</td>\n",
       "      <td>22</td>\n",
       "      <td>3</td>\n",
       "      <td>5</td>\n",
       "      <td>10</td>\n",
       "      <td>4</td>\n",
       "      <td>...</td>\n",
       "      <td>0.50</td>\n",
       "      <td>2.02</td>\n",
       "      <td>1.91</td>\n",
       "      <td>2.00</td>\n",
       "      <td>1.93</td>\n",
       "      <td>2.07</td>\n",
       "      <td>1.93</td>\n",
       "      <td>2.02</td>\n",
       "      <td>1.87</td>\n",
       "      <td>-2</td>\n",
       "    </tr>\n",
       "    <tr>\n",
       "      <th>...</th>\n",
       "      <th>...</th>\n",
       "      <td>...</td>\n",
       "      <td>...</td>\n",
       "      <td>...</td>\n",
       "      <td>...</td>\n",
       "      <td>...</td>\n",
       "      <td>...</td>\n",
       "      <td>...</td>\n",
       "      <td>...</td>\n",
       "      <td>...</td>\n",
       "      <td>...</td>\n",
       "      <td>...</td>\n",
       "      <td>...</td>\n",
       "      <td>...</td>\n",
       "      <td>...</td>\n",
       "      <td>...</td>\n",
       "      <td>...</td>\n",
       "      <td>...</td>\n",
       "      <td>...</td>\n",
       "      <td>...</td>\n",
       "      <td>...</td>\n",
       "      <td>...</td>\n",
       "    </tr>\n",
       "    <tr>\n",
       "      <th rowspan=\"5\" valign=\"top\">Wolves</th>\n",
       "      <th>Norwich</th>\n",
       "      <td>1</td>\n",
       "      <td>1</td>\n",
       "      <td>0</td>\n",
       "      <td>1</td>\n",
       "      <td>17</td>\n",
       "      <td>11</td>\n",
       "      <td>4</td>\n",
       "      <td>2</td>\n",
       "      <td>5</td>\n",
       "      <td>10</td>\n",
       "      <td>...</td>\n",
       "      <td>-1.00</td>\n",
       "      <td>1.93</td>\n",
       "      <td>1.97</td>\n",
       "      <td>1.96</td>\n",
       "      <td>1.94</td>\n",
       "      <td>1.96</td>\n",
       "      <td>2.13</td>\n",
       "      <td>1.89</td>\n",
       "      <td>1.99</td>\n",
       "      <td>0</td>\n",
       "    </tr>\n",
       "    <tr>\n",
       "      <th>Southampton</th>\n",
       "      <td>3</td>\n",
       "      <td>1</td>\n",
       "      <td>1</td>\n",
       "      <td>0</td>\n",
       "      <td>9</td>\n",
       "      <td>13</td>\n",
       "      <td>5</td>\n",
       "      <td>10</td>\n",
       "      <td>13</td>\n",
       "      <td>14</td>\n",
       "      <td>...</td>\n",
       "      <td>-0.25</td>\n",
       "      <td>2.08</td>\n",
       "      <td>1.82</td>\n",
       "      <td>2.09</td>\n",
       "      <td>1.85</td>\n",
       "      <td>2.25</td>\n",
       "      <td>1.96</td>\n",
       "      <td>2.05</td>\n",
       "      <td>1.84</td>\n",
       "      <td>2</td>\n",
       "    </tr>\n",
       "    <tr>\n",
       "      <th>Tottenham</th>\n",
       "      <td>0</td>\n",
       "      <td>1</td>\n",
       "      <td>0</td>\n",
       "      <td>1</td>\n",
       "      <td>25</td>\n",
       "      <td>8</td>\n",
       "      <td>6</td>\n",
       "      <td>6</td>\n",
       "      <td>9</td>\n",
       "      <td>7</td>\n",
       "      <td>...</td>\n",
       "      <td>0.00</td>\n",
       "      <td>2.03</td>\n",
       "      <td>1.90</td>\n",
       "      <td>2.02</td>\n",
       "      <td>1.91</td>\n",
       "      <td>2.11</td>\n",
       "      <td>1.92</td>\n",
       "      <td>2.02</td>\n",
       "      <td>1.86</td>\n",
       "      <td>-1</td>\n",
       "    </tr>\n",
       "    <tr>\n",
       "      <th>Watford</th>\n",
       "      <td>4</td>\n",
       "      <td>0</td>\n",
       "      <td>2</td>\n",
       "      <td>0</td>\n",
       "      <td>10</td>\n",
       "      <td>9</td>\n",
       "      <td>5</td>\n",
       "      <td>0</td>\n",
       "      <td>11</td>\n",
       "      <td>10</td>\n",
       "      <td>...</td>\n",
       "      <td>-0.50</td>\n",
       "      <td>1.98</td>\n",
       "      <td>1.95</td>\n",
       "      <td>1.97</td>\n",
       "      <td>1.95</td>\n",
       "      <td>1.98</td>\n",
       "      <td>1.99</td>\n",
       "      <td>1.93</td>\n",
       "      <td>1.95</td>\n",
       "      <td>4</td>\n",
       "    </tr>\n",
       "    <tr>\n",
       "      <th>West Ham</th>\n",
       "      <td>1</td>\n",
       "      <td>0</td>\n",
       "      <td>0</td>\n",
       "      <td>0</td>\n",
       "      <td>15</td>\n",
       "      <td>8</td>\n",
       "      <td>5</td>\n",
       "      <td>3</td>\n",
       "      <td>6</td>\n",
       "      <td>9</td>\n",
       "      <td>...</td>\n",
       "      <td>0.25</td>\n",
       "      <td>1.81</td>\n",
       "      <td>2.09</td>\n",
       "      <td>1.84</td>\n",
       "      <td>2.10</td>\n",
       "      <td>1.93</td>\n",
       "      <td>2.13</td>\n",
       "      <td>1.83</td>\n",
       "      <td>2.06</td>\n",
       "      <td>1</td>\n",
       "    </tr>\n",
       "  </tbody>\n",
       "</table>\n",
       "<p>380 rows × 99 columns</p>\n",
       "</div>"
      ],
      "text/plain": [
       "                      FTHG  FTAG  HTHG  HTAG  HS  AS  HST  AST  HF  AF  ...  \\\n",
       "HomeTeam AwayTeam                                                       ...   \n",
       "Arsenal  Aston Villa     3     1     2     0  22  10    9    4  17  10  ...   \n",
       "         Brentford       2     1     0     0  24   6    8    2  10   5  ...   \n",
       "         Brighton        1     2     0     1  20   8    4    3  12  19  ...   \n",
       "         Burnley         0     0     0     0  20  10    5    1   9  13  ...   \n",
       "         Chelsea         0     2     0     2   6  22    3    5  10   4  ...   \n",
       "...                    ...   ...   ...   ...  ..  ..  ...  ...  ..  ..  ...   \n",
       "Wolves   Norwich         1     1     0     1  17  11    4    2   5  10  ...   \n",
       "         Southampton     3     1     1     0   9  13    5   10  13  14  ...   \n",
       "         Tottenham       0     1     0     1  25   8    6    6   9   7  ...   \n",
       "         Watford         4     0     2     0  10   9    5    0  11  10  ...   \n",
       "         West Ham        1     0     0     0  15   8    5    3   6   9  ...   \n",
       "\n",
       "                      AHCh  B365CAHH  B365CAHA  PCAHH  PCAHA  MaxCAHH  \\\n",
       "HomeTeam AwayTeam                                                       \n",
       "Arsenal  Aston Villa -0.50      2.03      1.90   2.04   1.89     2.11   \n",
       "         Brentford   -1.00      1.93      1.97   1.91   2.01     2.06   \n",
       "         Brighton    -0.75      1.78      2.13   1.83   2.11     1.87   \n",
       "         Burnley     -1.50      1.92      2.01   1.93   2.00     1.93   \n",
       "         Chelsea      0.50      2.02      1.91   2.00   1.93     2.07   \n",
       "...                    ...       ...       ...    ...    ...      ...   \n",
       "Wolves   Norwich     -1.00      1.93      1.97   1.96   1.94     1.96   \n",
       "         Southampton -0.25      2.08      1.82   2.09   1.85     2.25   \n",
       "         Tottenham    0.00      2.03      1.90   2.02   1.91     2.11   \n",
       "         Watford     -0.50      1.98      1.95   1.97   1.95     1.98   \n",
       "         West Ham     0.25      1.81      2.09   1.84   2.10     1.93   \n",
       "\n",
       "                      MaxCAHA  AvgCAHH  AvgCAHA  margin  \n",
       "HomeTeam AwayTeam                                        \n",
       "Arsenal  Aston Villa     1.96     1.99     1.88       2  \n",
       "         Brentford       2.01     1.97     1.90       1  \n",
       "         Brighton        2.14     1.83     2.06      -1  \n",
       "         Burnley         2.11     1.90     1.98       0  \n",
       "         Chelsea         1.93     2.02     1.87      -2  \n",
       "...                       ...      ...      ...     ...  \n",
       "Wolves   Norwich         2.13     1.89     1.99       0  \n",
       "         Southampton     1.96     2.05     1.84       2  \n",
       "         Tottenham       1.92     2.02     1.86      -1  \n",
       "         Watford         1.99     1.93     1.95       4  \n",
       "         West Ham        2.13     1.83     2.06       1  \n",
       "\n",
       "[380 rows x 99 columns]"
      ]
     },
     "execution_count": 35,
     "metadata": {},
     "output_type": "execute_result"
    }
   ],
   "source": [
    "matches.groupby(['HomeTeam', 'AwayTeam']).mean()"
   ]
  },
  {
   "cell_type": "code",
   "execution_count": 36,
   "metadata": {},
   "outputs": [
    {
     "data": {
      "text/html": [
       "<div>\n",
       "<style scoped>\n",
       "    .dataframe tbody tr th:only-of-type {\n",
       "        vertical-align: middle;\n",
       "    }\n",
       "\n",
       "    .dataframe tbody tr th {\n",
       "        vertical-align: top;\n",
       "    }\n",
       "\n",
       "    .dataframe thead th {\n",
       "        text-align: right;\n",
       "    }\n",
       "</style>\n",
       "<table border=\"1\" class=\"dataframe\">\n",
       "  <thead>\n",
       "    <tr style=\"text-align: right;\">\n",
       "      <th></th>\n",
       "      <th>Date</th>\n",
       "      <th>Time</th>\n",
       "      <th>HomeTeam</th>\n",
       "      <th>AwayTeam</th>\n",
       "      <th>FTHG</th>\n",
       "      <th>FTAG</th>\n",
       "      <th>FTR</th>\n",
       "      <th>HTHG</th>\n",
       "      <th>HTAG</th>\n",
       "      <th>HTR</th>\n",
       "      <th>...</th>\n",
       "      <th>AHCh</th>\n",
       "      <th>B365CAHH</th>\n",
       "      <th>B365CAHA</th>\n",
       "      <th>PCAHH</th>\n",
       "      <th>PCAHA</th>\n",
       "      <th>MaxCAHH</th>\n",
       "      <th>MaxCAHA</th>\n",
       "      <th>AvgCAHH</th>\n",
       "      <th>AvgCAHA</th>\n",
       "      <th>margin</th>\n",
       "    </tr>\n",
       "  </thead>\n",
       "  <tbody>\n",
       "    <tr>\n",
       "      <th>18</th>\n",
       "      <td>2021-08-22</td>\n",
       "      <td>16:30</td>\n",
       "      <td>Arsenal</td>\n",
       "      <td>Chelsea</td>\n",
       "      <td>0</td>\n",
       "      <td>2</td>\n",
       "      <td>A</td>\n",
       "      <td>0</td>\n",
       "      <td>2</td>\n",
       "      <td>A</td>\n",
       "      <td>...</td>\n",
       "      <td>0.5</td>\n",
       "      <td>2.02</td>\n",
       "      <td>1.91</td>\n",
       "      <td>2.0</td>\n",
       "      <td>1.93</td>\n",
       "      <td>2.07</td>\n",
       "      <td>1.93</td>\n",
       "      <td>2.02</td>\n",
       "      <td>1.87</td>\n",
       "      <td>-2</td>\n",
       "    </tr>\n",
       "  </tbody>\n",
       "</table>\n",
       "<p>1 rows × 106 columns</p>\n",
       "</div>"
      ],
      "text/plain": [
       "         Date   Time HomeTeam AwayTeam  FTHG  FTAG FTR  HTHG  HTAG HTR  ...  \\\n",
       "18 2021-08-22  16:30  Arsenal  Chelsea     0     2   A     0     2   A  ...   \n",
       "\n",
       "   AHCh  B365CAHH  B365CAHA  PCAHH  PCAHA  MaxCAHH  MaxCAHA  AvgCAHH  AvgCAHA  \\\n",
       "18  0.5      2.02      1.91    2.0   1.93     2.07     1.93     2.02     1.87   \n",
       "\n",
       "    margin  \n",
       "18      -2  \n",
       "\n",
       "[1 rows x 106 columns]"
      ]
     },
     "execution_count": 36,
     "metadata": {},
     "output_type": "execute_result"
    }
   ],
   "source": [
    "h2h = matches.groupby(['HomeTeam', 'AwayTeam']).mean()\n",
    "matches.groupby(['HomeTeam', 'AwayTeam']).get_group(('Arsenal', 'Chelsea'))"
   ]
  },
  {
   "cell_type": "code",
   "execution_count": 37,
   "metadata": {},
   "outputs": [
    {
     "data": {
      "text/plain": [
       "(FTHG        1.000000\n",
       " FTAG        2.000000\n",
       " HTHG        0.421053\n",
       " HTAG        0.842105\n",
       " HS         13.894737\n",
       "              ...    \n",
       " MaxCAHH     2.017368\n",
       " MaxCAHA     2.041053\n",
       " AvgCAHH     1.923158\n",
       " AvgCAHA     1.965789\n",
       " margin     -1.000000\n",
       " Name: Leeds, Length: 99, dtype: float64,\n",
       " FTHG        2.157895\n",
       " FTAG        1.210526\n",
       " HTHG        1.000000\n",
       " HTAG        0.421053\n",
       " HS         16.210526\n",
       "              ...    \n",
       " MaxCAHH     2.025263\n",
       " MaxCAHA     2.040000\n",
       " AvgCAHH     1.942105\n",
       " AvgCAHA     1.943158\n",
       " margin      0.947368\n",
       " Name: Leeds, Length: 99, dtype: float64)"
      ]
     },
     "execution_count": 37,
     "metadata": {},
     "output_type": "execute_result"
    }
   ],
   "source": [
    "# epl and championship teams home and away form last season\n",
    "home_form = matches.groupby(['HomeTeam']).mean()\n",
    "away_form = matches.groupby(['AwayTeam']).mean()\n",
    "home_form.loc['Leeds'], away_form.loc['Leeds']"
   ]
  },
  {
   "cell_type": "markdown",
   "metadata": {},
   "source": [
    "#### Football is an unpredictable game; a goal can come at any point during the game, with no regard for past goals, teams, or other circumstances. Did I say \"random?\" Poisson Distribution is a statistical distribution that is used to determine the probabilities of randomly occuring occurrences.\n",
    "\n",
    "#### Is it true, for example, that two goals are scored on average per game? If that's the case, what are the possibilities of seeing two goals in a game? Our saviour arrives. Given that we feed it with the expectation of events occuring, the Poisson distribution lets us find the probability of witnessing 'n' events (read 'n' objectives) in a defined time period."
   ]
  },
  {
   "cell_type": "code",
   "execution_count": 38,
   "metadata": {},
   "outputs": [],
   "source": [
    "from scipy.stats import poisson\n",
    "from glob import glob"
   ]
  },
  {
   "cell_type": "code",
   "execution_count": 39,
   "metadata": {},
   "outputs": [
    {
     "data": {
      "text/plain": [
       "(1, 0)"
      ]
     },
     "execution_count": 39,
     "metadata": {},
     "output_type": "execute_result"
    }
   ],
   "source": [
    "# modeling - get score function\n",
    "home = 'Man City'\n",
    "away = 'Chelsea'\n",
    "\n",
    "def get_score(home, away):\n",
    "    # head to head results in last 5 seasons\n",
    "    home_mean = h2h.loc[(home, away)][0]\n",
    "    away_mean = h2h.loc[(home, away)][1]\n",
    "    \n",
    "    # simulate score by random sampling from parametrized Poisson distribution\n",
    "    home_score = poisson.rvs(home_mean, size=1)[0]\n",
    "    away_score = poisson.rvs(away_mean, size=1)[0]\n",
    "\n",
    "    return (home_score, away_score)\n",
    "\n",
    "get_score(home, away)"
   ]
  },
  {
   "cell_type": "code",
   "execution_count": 40,
   "metadata": {},
   "outputs": [
    {
     "data": {
      "text/plain": [
       "'H'"
      ]
     },
     "execution_count": 40,
     "metadata": {},
     "output_type": "execute_result"
    }
   ],
   "source": [
    "# helper function returns match result (home win, away win, draw)\n",
    "def get_result(home_score, away_score):\n",
    "    if home_score > away_score:\n",
    "        result = 'H'\n",
    "    elif home_score < away_score:\n",
    "        result = 'A'\n",
    "    else:\n",
    "        result = 'D'\n",
    "    return result\n",
    "\n",
    "get_result(2,1)"
   ]
  },
  {
   "cell_type": "code",
   "execution_count": 41,
   "metadata": {},
   "outputs": [
    {
     "data": {
      "text/plain": [
       "('6-0', 16.7, 'H', 99.7)"
      ]
     },
     "execution_count": 41,
     "metadata": {},
     "output_type": "execute_result"
    }
   ],
   "source": [
    "# Taking Sample team name for testing the scoring method\n",
    "home = 'Liverpool'\n",
    "away = 'Leeds'\n",
    "trials = 10000\n",
    "\n",
    "def get_scores(home, away):\n",
    "    # if head to head results exists\n",
    "    try:\n",
    "        home_mean = h2h.loc[(home, away)][0]\n",
    "        away_mean = h2h.loc[(home, away)][1]\n",
    "\n",
    "    # if head to head results unavailable\n",
    "    except KeyError:\n",
    "        # home and away form last season\n",
    "        home_scored = home_form.loc[home]['FTHG']\n",
    "        home_conceded = home_form.loc[home]['FTAG']\n",
    "        away_scored = away_form.loc[away]['FTAG']\n",
    "        away_conceded = away_form.loc[away]['FTHG']\n",
    "        \n",
    "        # average over goals for and against each team\n",
    "        home_mean = (home_scored + away_conceded) / 2\n",
    "        away_mean = (away_scored + home_conceded) / 2\n",
    "\n",
    "    # simulate score by random sampling from parametrized Poisson distribution\n",
    "    home_scores = poisson.rvs(home_mean, size=trials, random_state=2).astype(str)\n",
    "    away_scores = poisson.rvs(away_mean, size=trials, random_state=0).astype(str)\n",
    "    \n",
    "    # get most probable scoreline and outcome with associated probabilities\n",
    "    scores = pd.DataFrame(data={'home':home_scores, 'away':away_scores})\n",
    "    scores['result'] = scores['home'] + '-' + scores['away']\n",
    "    score_predictions = scores['result'].value_counts()\n",
    "    score_probability = round(score_predictions / trials * 100, 1)\n",
    "    scores['outcome'] = scores.apply(lambda x: get_result(x.home, x.away), axis=1)\n",
    "    outcome_predictions = scores['outcome'].value_counts()\n",
    "    outcome_probability = round(outcome_predictions / trials * 100, 1)\n",
    "  \n",
    "    return score_predictions.index[0], score_probability[0], outcome_predictions.index[0], outcome_probability[0]\n",
    "    \n",
    "get_scores(home, away)"
   ]
  },
  {
   "cell_type": "code",
   "execution_count": 46,
   "metadata": {},
   "outputs": [
    {
     "data": {
      "text/plain": [
       "array(['Brentford', 'Man United', 'Burnley', 'Chelsea', 'Everton',\n",
       "       'Leicester', 'Watford', 'Norwich', 'Newcastle', 'Tottenham',\n",
       "       'Liverpool', 'Aston Villa', 'Crystal Palace', 'Leeds', 'Man City',\n",
       "       'Brighton', 'Southampton', 'Wolves', 'Arsenal', 'West Ham'],\n",
       "      dtype=object)"
      ]
     },
     "execution_count": 46,
     "metadata": {},
     "output_type": "execute_result"
    }
   ],
   "source": [
    "input_data['HomeTeam'].unique()"
   ]
  },
  {
   "cell_type": "code",
   "execution_count": 48,
   "metadata": {},
   "outputs": [
    {
     "data": {
      "text/plain": [
       "array(['Arsenal', 'Leeds', 'Brighton', 'Crystal Palace', 'Southampton',\n",
       "       'Wolves', 'Aston Villa', 'Liverpool', 'West Ham', 'Man City',\n",
       "       'Burnley', 'Newcastle', 'Brentford', 'Everton', 'Norwich',\n",
       "       'Watford', 'Man United', 'Tottenham', 'Chelsea', 'Leicester'],\n",
       "      dtype=object)"
      ]
     },
     "execution_count": 48,
     "metadata": {},
     "output_type": "execute_result"
    }
   ],
   "source": [
    "input_data['AwayTeam'].unique()"
   ]
  },
  {
   "cell_type": "code",
   "execution_count": 47,
   "metadata": {},
   "outputs": [
    {
     "data": {
      "text/plain": [
       "(380, 106)"
      ]
     },
     "execution_count": 47,
     "metadata": {},
     "output_type": "execute_result"
    }
   ],
   "source": [
    "input_data.shape"
   ]
  },
  {
   "cell_type": "code",
   "execution_count": 60,
   "metadata": {},
   "outputs": [],
   "source": [
    "# data analysis \n",
    "home_teams = ['Brentford', 'Man United', 'Burnley', 'Chelsea', 'Everton',\n",
    "       'Leicester', 'Watford', 'Norwich', 'Newcastle', 'Tottenham',\n",
    "       'Liverpool', 'Aston Villa', 'Crystal Palace', 'Leeds', 'Man City',\n",
    "       'Brighton', 'Southampton', 'Wolves', 'Arsenal', 'West Ham']\n",
    "away_teams = ['Arsenal', 'Leeds', 'Brighton', 'Crystal Palace', 'Southampton',\n",
    "       'Wolves', 'Aston Villa', 'Liverpool', 'West Ham', 'Man City',\n",
    "       'Burnley', 'Newcastle', 'Brentford', 'Everton', 'Norwich',\n",
    "       'Watford', 'Man United', 'Tottenham', 'Chelsea', 'Leicester']\n",
    "\n",
    "week1 = pd.DataFrame(data={'Home':home_teams, 'Away':away_teams})"
   ]
  },
  {
   "cell_type": "code",
   "execution_count": 61,
   "metadata": {},
   "outputs": [],
   "source": [
    "week1['Pred. Score'] = week1.apply(lambda x: get_scores(x.Home, x.Away)[0], axis=1)\n",
    "week1['Probability'] = week1.apply(lambda x: get_scores(x.Home, x.Away)[1], axis=1).map('{:,.1f}%'.format)\n",
    "week1['Pred. Result'] = week1.apply(lambda x: get_scores(x.Home, x.Away)[2], axis=1)\n",
    "week1['Prob. (%)'] = week1.apply(lambda x: get_scores(x.Home, x.Away)[3], axis=1).map('{:,.1f}%'.format)"
   ]
  },
  {
   "cell_type": "code",
   "execution_count": 62,
   "metadata": {},
   "outputs": [
    {
     "data": {
      "text/plain": [
       "Index(['Date', 'Time', 'HomeTeam', 'AwayTeam', 'FTHG', 'FTAG', 'FTR', 'HTHG',\n",
       "       'HTAG', 'HTR',\n",
       "       ...\n",
       "       'AHCh', 'B365CAHH', 'B365CAHA', 'PCAHH', 'PCAHA', 'MaxCAHH', 'MaxCAHA',\n",
       "       'AvgCAHH', 'AvgCAHA', 'margin'],\n",
       "      dtype='object', length=106)"
      ]
     },
     "execution_count": 62,
     "metadata": {},
     "output_type": "execute_result"
    }
   ],
   "source": [
    "input_data.columns"
   ]
  },
  {
   "cell_type": "code",
   "execution_count": 63,
   "metadata": {},
   "outputs": [],
   "source": [
    "input_data_1 = input_data[\n",
    "    ['HomeTeam', 'AwayTeam', 'FTHG', 'FTAG', 'FTR', 'HTHG',\n",
    "       'HTAG', 'HTR']\n",
    "]"
   ]
  },
  {
   "cell_type": "code",
   "execution_count": 64,
   "metadata": {},
   "outputs": [
    {
     "name": "stderr",
     "output_type": "stream",
     "text": [
      "<ipython-input-64-f137811c3511>:1: SettingWithCopyWarning: \n",
      "A value is trying to be set on a copy of a slice from a DataFrame.\n",
      "Try using .loc[row_indexer,col_indexer] = value instead\n",
      "\n",
      "See the caveats in the documentation: https://pandas.pydata.org/pandas-docs/stable/user_guide/indexing.html#returning-a-view-versus-a-copy\n",
      "  input_data_1['Home'] = input_data_1['HomeTeam']\n",
      "<ipython-input-64-f137811c3511>:2: SettingWithCopyWarning: \n",
      "A value is trying to be set on a copy of a slice from a DataFrame.\n",
      "Try using .loc[row_indexer,col_indexer] = value instead\n",
      "\n",
      "See the caveats in the documentation: https://pandas.pydata.org/pandas-docs/stable/user_guide/indexing.html#returning-a-view-versus-a-copy\n",
      "  input_data_1['Away'] = input_data_1['AwayTeam']\n"
     ]
    }
   ],
   "source": [
    "input_data_1['Home'] = input_data_1['HomeTeam']  \n",
    "input_data_1['Away'] = input_data_1['AwayTeam']  "
   ]
  },
  {
   "cell_type": "code",
   "execution_count": 65,
   "metadata": {},
   "outputs": [],
   "source": [
    "merged_data= week1.merge(input_data_1, on=[\"Home\",\"Away\"])"
   ]
  },
  {
   "cell_type": "code",
   "execution_count": 68,
   "metadata": {},
   "outputs": [
    {
     "data": {
      "text/html": [
       "<div>\n",
       "<style scoped>\n",
       "    .dataframe tbody tr th:only-of-type {\n",
       "        vertical-align: middle;\n",
       "    }\n",
       "\n",
       "    .dataframe tbody tr th {\n",
       "        vertical-align: top;\n",
       "    }\n",
       "\n",
       "    .dataframe thead th {\n",
       "        text-align: right;\n",
       "    }\n",
       "</style>\n",
       "<table border=\"1\" class=\"dataframe\">\n",
       "  <thead>\n",
       "    <tr style=\"text-align: right;\">\n",
       "      <th></th>\n",
       "      <th>Home</th>\n",
       "      <th>Away</th>\n",
       "      <th>Pred. Score</th>\n",
       "      <th>Probability</th>\n",
       "      <th>Pred. Result</th>\n",
       "      <th>Prob. (%)</th>\n",
       "      <th>HomeTeam</th>\n",
       "      <th>AwayTeam</th>\n",
       "      <th>FTHG</th>\n",
       "      <th>FTAG</th>\n",
       "      <th>FTR</th>\n",
       "      <th>HTHG</th>\n",
       "      <th>HTAG</th>\n",
       "      <th>HTR</th>\n",
       "    </tr>\n",
       "  </thead>\n",
       "  <tbody>\n",
       "    <tr>\n",
       "      <th>13</th>\n",
       "      <td>Leeds</td>\n",
       "      <td>Everton</td>\n",
       "      <td>2-2</td>\n",
       "      <td>7.9%</td>\n",
       "      <td>H</td>\n",
       "      <td>40.1%</td>\n",
       "      <td>Leeds</td>\n",
       "      <td>Everton</td>\n",
       "      <td>2</td>\n",
       "      <td>2</td>\n",
       "      <td>D</td>\n",
       "      <td>1</td>\n",
       "      <td>1</td>\n",
       "      <td>D</td>\n",
       "    </tr>\n",
       "    <tr>\n",
       "      <th>16</th>\n",
       "      <td>Southampton</td>\n",
       "      <td>Man United</td>\n",
       "      <td>1-0</td>\n",
       "      <td>14.0%</td>\n",
       "      <td>H</td>\n",
       "      <td>34.8%</td>\n",
       "      <td>Southampton</td>\n",
       "      <td>Man United</td>\n",
       "      <td>1</td>\n",
       "      <td>1</td>\n",
       "      <td>D</td>\n",
       "      <td>1</td>\n",
       "      <td>0</td>\n",
       "      <td>H</td>\n",
       "    </tr>\n",
       "  </tbody>\n",
       "</table>\n",
       "</div>"
      ],
      "text/plain": [
       "           Home        Away Pred. Score Probability Pred. Result Prob. (%)  \\\n",
       "13        Leeds     Everton         2-2        7.9%            H     40.1%   \n",
       "16  Southampton  Man United         1-0       14.0%            H     34.8%   \n",
       "\n",
       "       HomeTeam    AwayTeam  FTHG  FTAG FTR  HTHG  HTAG HTR  \n",
       "13        Leeds     Everton     2     2   D     1     1   D  \n",
       "16  Southampton  Man United     1     1   D     1     0   H  "
      ]
     },
     "execution_count": 68,
     "metadata": {},
     "output_type": "execute_result"
    }
   ],
   "source": [
    "merged_data[merged_data['Pred. Result']!=merged_data['FTR']]"
   ]
  },
  {
   "cell_type": "code",
   "execution_count": null,
   "metadata": {},
   "outputs": [],
   "source": []
  }
 ],
 "metadata": {
  "kernelspec": {
   "display_name": "Python 3",
   "language": "python",
   "name": "python3"
  },
  "language_info": {
   "codemirror_mode": {
    "name": "ipython",
    "version": 3
   },
   "file_extension": ".py",
   "mimetype": "text/x-python",
   "name": "python",
   "nbconvert_exporter": "python",
   "pygments_lexer": "ipython3",
   "version": "3.8.3"
  }
 },
 "nbformat": 4,
 "nbformat_minor": 4
}
